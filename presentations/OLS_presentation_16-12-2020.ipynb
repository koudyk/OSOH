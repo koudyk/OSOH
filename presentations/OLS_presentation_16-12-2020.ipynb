{
 "cells": [
  {
   "cell_type": "code",
   "execution_count": null,
   "metadata": {
    "lines_to_next_cell": 2,
    "slideshow": {
     "slide_type": "skip"
    }
   },
   "outputs": [],
   "source": []
  },
  {
   "cell_type": "markdown",
   "metadata": {
    "lines_to_next_cell": 0,
    "slideshow": {
     "slide_type": "slide"
    }
   },
   "source": [
    "\n",
    "![](images/logo_medium.png)\n",
    "\n",
    "Kendra Oudyk\n",
    "\n",
    "2020-12-16 \\\n",
    "Final presentation for OLS-2\n",
    "\n",
    "<span style=\"color:gray\">Twitter: @koudyk_ </span> \\\n",
    "<span style=\"color:gray\">GitHub: koudyk/OSOH </span>\n",
    "\n",
    "\n"
   ]
  },
  {
   "cell_type": "markdown",
   "metadata": {
    "slideshow": {
     "slide_type": "slide"
    }
   },
   "source": [
    "# Vision\n",
    "\n",
    "OSOH is an online space where grad students can get regular help making their research more open."
   ]
  },
  {
   "cell_type": "markdown",
   "metadata": {
    "slideshow": {
     "slide_type": "slide"
    }
   },
   "source": [
    "# Why I'm doing this\n"
   ]
  },
  {
   "cell_type": "markdown",
   "metadata": {
    "slideshow": {
     "slide_type": "subslide"
    }
   },
   "source": [
    "![](images/story1.png)"
   ]
  },
  {
   "cell_type": "markdown",
   "metadata": {
    "slideshow": {
     "slide_type": "skip"
    }
   },
   "source": [
    "![](images/story2.png)"
   ]
  },
  {
   "cell_type": "markdown",
   "metadata": {
    "slideshow": {
     "slide_type": "skip"
    }
   },
   "source": [
    "![](images/story3.png)"
   ]
  },
  {
   "cell_type": "markdown",
   "metadata": {
    "slideshow": {
     "slide_type": "subslide"
    }
   },
   "source": [
    "![](images/story4_corr2.png)"
   ]
  },
  {
   "cell_type": "markdown",
   "metadata": {
    "slideshow": {
     "slide_type": "subslide"
    }
   },
   "source": [
    "![](images/story5.png)"
   ]
  },
  {
   "cell_type": "markdown",
   "metadata": {
    "slideshow": {
     "slide_type": "subslide"
    }
   },
   "source": [
    "![](images/story6b.png)"
   ]
  },
  {
   "cell_type": "markdown",
   "metadata": {
    "slideshow": {
     "slide_type": "subslide"
    }
   },
   "source": [
    "![](images/story7a2.png)"
   ]
  },
  {
   "cell_type": "markdown",
   "metadata": {
    "slideshow": {
     "slide_type": "fragment"
    }
   },
   "source": [
    "![](images/story7b2.png)"
   ]
  },
  {
   "cell_type": "markdown",
   "metadata": {
    "slideshow": {
     "slide_type": "slide"
    }
   },
   "source": [
    "# Vision\n",
    "\n",
    "OSOH is an online space where grad students can get regular help making their research more open."
   ]
  },
  {
   "cell_type": "markdown",
   "metadata": {
    "lines_to_next_cell": 2,
    "slideshow": {
     "slide_type": "subslide"
    }
   },
   "source": [
    "#### inviting students to the\n",
    "## Open science buffet\n",
    "![](images/open_science_buffet.png)"
   ]
  },
  {
   "cell_type": "markdown",
   "metadata": {
    "slideshow": {
     "slide_type": "slide"
    }
   },
   "source": [
    "# Milestones\n",
    "\n",
    "- **Evaluate needs**\n",
    "- Create documentation\n",
    "- Find collaborators\n",
    "- Request funding"
   ]
  },
  {
   "cell_type": "markdown",
   "metadata": {
    "slideshow": {
     "slide_type": "subslide"
    }
   },
   "source": [
    "# Survey\n",
    "![](images/survey_screenshot.png)"
   ]
  },
  {
   "cell_type": "markdown",
   "metadata": {
    "slideshow": {
     "slide_type": "skip"
    }
   },
   "source": [
    "![](images/survey_on_twitter.png)"
   ]
  },
  {
   "cell_type": "markdown",
   "metadata": {
    "slideshow": {
     "slide_type": "subslide"
    }
   },
   "source": [
    "# What do you think of when you hear the words \"open science\"?\n",
    "![](../survey/figures/wc_first_thoughts.png)"
   ]
  },
  {
   "cell_type": "markdown",
   "metadata": {
    "slideshow": {
     "slide_type": "fragment"
    }
   },
   "source": [
    "<h2> <img src=\"images/star.png\"\n",
    "  width=\"50\"\n",
    "  height=\"50\"\n",
    "  style=\"float:left;\">\n",
    "    Narrow view of open science"
   ]
  },
  {
   "cell_type": "markdown",
   "metadata": {
    "slideshow": {
     "slide_type": "subslide"
    }
   },
   "source": [
    "![](images/open_science_buffet.png)"
   ]
  },
  {
   "cell_type": "markdown",
   "metadata": {
    "slideshow": {
     "slide_type": "skip"
    }
   },
   "source": [
    "# Experience creating open-science objects\n",
    "![](../survey/figures/experience_creating.png)"
   ]
  },
  {
   "cell_type": "markdown",
   "metadata": {
    "slideshow": {
     "slide_type": "subslide"
    }
   },
   "source": [
    "## Experience using and creating open-science objects\n",
    "![](../survey/figures/experience.png)"
   ]
  },
  {
   "cell_type": "markdown",
   "metadata": {
    "slideshow": {
     "slide_type": "fragment"
    }
   },
   "source": [
    "<h2> <img src=\"images/star.png\"\n",
    "  width=\"50\"\n",
    "  height=\"50\"\n",
    "  style=\"float:left;\">\n",
    "    Most are using open science; ~half haven't created it and want to"
   ]
  },
  {
   "cell_type": "markdown",
   "metadata": {
    "slideshow": {
     "slide_type": "skip"
    }
   },
   "source": [
    "## Overlap between users and creators of open science\n",
    "![](../survey/figures/intersections_use_create.png)"
   ]
  },
  {
   "cell_type": "markdown",
   "metadata": {
    "slideshow": {
     "slide_type": "subslide"
    }
   },
   "source": [
    "## What barriers do you face when trying to do open science? \n",
    "![](../survey/figures/barriers.png)"
   ]
  },
  {
   "cell_type": "markdown",
   "metadata": {
    "slideshow": {
     "slide_type": "fragment"
    }
   },
   "source": [
    "<h4> <img src=\"images/star.png\"\n",
    "  width=\"30\"\n",
    "  height=\"50\"\n",
    "  style=\"float:left;\">\n",
    "    Almost no one is not convinced\n",
    "    \n",
    "<h4> <img src=\"images/star.png\"\n",
    "  width=\"30\"\n",
    "  height=\"50\"\n",
    "  style=\"float:left;\">\n",
    "    Many have limited supported"
   ]
  },
  {
   "cell_type": "markdown",
   "metadata": {
    "slideshow": {
     "slide_type": "subslide"
    }
   },
   "source": [
    "### What would help you make your research more open?\n",
    "![](../survey/figures/resources_youd_like.png)"
   ]
  },
  {
   "cell_type": "markdown",
   "metadata": {
    "lines_to_next_cell": 0,
    "slideshow": {
     "slide_type": "fragment"
    }
   },
   "source": [
    "### If you do open science, what kinds of resources did you find most useful?\n",
    "![](../survey/figures/wc_resources_that_helped.png)"
   ]
  },
  {
   "cell_type": "markdown",
   "metadata": {
    "slideshow": {
     "slide_type": "fragment"
    }
   },
   "source": [
    "<h4> <img src=\"images/star.png\"\n",
    "  width=\"30\"\n",
    "  height=\"30\"\n",
    "  style=\"float:left;\">\n",
    "    They want resources and resources are out there; what's the barrier?"
   ]
  },
  {
   "cell_type": "markdown",
   "metadata": {
    "slideshow": {
     "slide_type": "subslide"
    }
   },
   "source": [
    "# Summary of needs\n",
    "Based on the survey result\n",
    "- Narrow view of open science (data, code)\n",
    "- Desire to create open science\n",
    "- Greatest barriers: limited skills, support, and time\n",
    "- Almost no one is not convinced that open science is important\n",
    "- They want resources and resources are out there; what's the barrier there?\n",
    "\n",
    "### Limitations\n",
    "- Small sample\n",
    "- Biased sample"
   ]
  },
  {
   "cell_type": "markdown",
   "metadata": {
    "slideshow": {
     "slide_type": "slide"
    }
   },
   "source": [
    "# Milestones\n",
    "\n",
    "- Evaluate needs\n",
    "- **Create documentation**\n",
    "- Find collaborators\n",
    "- Request funding"
   ]
  },
  {
   "cell_type": "markdown",
   "metadata": {
    "slideshow": {
     "slide_type": "subslide"
    }
   },
   "source": [
    "# GitHub\n",
    "![](images/github.png)"
   ]
  },
  {
   "cell_type": "markdown",
   "metadata": {
    "slideshow": {
     "slide_type": "subslide"
    }
   },
   "source": [
    "# Website\n",
    "\n",
    "In progress..."
   ]
  },
  {
   "cell_type": "markdown",
   "metadata": {
    "slideshow": {
     "slide_type": "slide"
    }
   },
   "source": [
    "# Milestones\n",
    "\n",
    "- Evaluate needs\n",
    "- Create documentation\n",
    "- **Find collaborators**\n",
    "- Request funding"
   ]
  },
  {
   "cell_type": "markdown",
   "metadata": {
    "slideshow": {
     "slide_type": "subslide"
    }
   },
   "source": [
    "# Collaborators\n",
    "People who have helped so far are from:\n",
    "![](images/collaborators.png)"
   ]
  },
  {
   "cell_type": "markdown",
   "metadata": {
    "slideshow": {
     "slide_type": "slide"
    }
   },
   "source": [
    "# Milestones\n",
    "- Evaluate needs\n",
    "- Create documentation\n",
    "- Find collaborators\n",
    "- **Request funding**"
   ]
  },
  {
   "cell_type": "markdown",
   "metadata": {
    "slideshow": {
     "slide_type": "subslide"
    }
   },
   "source": [
    "# Why we need funding\n"
   ]
  },
  {
   "cell_type": "markdown",
   "metadata": {
    "slideshow": {
     "slide_type": "fragment"
    }
   },
   "source": [
    "- Level the playing field for TA applicants"
   ]
  },
  {
   "cell_type": "markdown",
   "metadata": {
    "slideshow": {
     "slide_type": "fragment"
    }
   },
   "source": [
    "![](../survey/figures/host.png)"
   ]
  },
  {
   "cell_type": "markdown",
   "metadata": {
    "slideshow": {
     "slide_type": "subslide"
    }
   },
   "source": [
    "## What's a reasonable hourly TA wage?\n",
    "![](../survey/figures/ta_wages.png)\n",
    "Info from www.glassdoor.ca "
   ]
  },
  {
   "cell_type": "markdown",
   "metadata": {
    "lines_to_next_cell": 2,
    "slideshow": {
     "slide_type": "subslide"
    }
   },
   "source": [
    "## Budget projections\n",
    "![](../survey/figures/ta_budget.png)"
   ]
  },
  {
   "cell_type": "markdown",
   "metadata": {
    "slideshow": {
     "slide_type": "subslide"
    }
   },
   "source": [
    "# Potential funding opportunities"
   ]
  },
  {
   "cell_type": "markdown",
   "metadata": {
    "slideshow": {
     "slide_type": "fragment"
    }
   },
   "source": [
    "### For overhead costs\n",
    "- McGill PGSS Library Improvement Fund\n",
    "- McGill Alumni Association student sponsorship program (\\\\$250 to \\\\$750)\n",
    "- BrainHack School\n",
    "- Tanenbaum Open Science Initiative"
   ]
  },
  {
   "cell_type": "markdown",
   "metadata": {
    "slideshow": {
     "slide_type": "fragment"
    }
   },
   "source": [
    "### For collaborative events\n",
    "- **Graduate Student Association for Neurocience (McGill)**\n",
    "- Open Science UMontreal\n",
    "- UNIQUE ------------------------------------------------------------------\n",
    "- Healthy Brains for Healthy Lives (McGill)"
   ]
  },
  {
   "cell_type": "markdown",
   "metadata": {
    "lines_to_next_cell": 0,
    "slideshow": {
     "slide_type": "slide"
    }
   },
   "source": [
    "# Next steps"
   ]
  },
  {
   "cell_type": "markdown",
   "metadata": {
    "slideshow": {
     "slide_type": "fragment"
    }
   },
   "source": [
    "- Revisit vision in light of the survey"
   ]
  },
  {
   "cell_type": "markdown",
   "metadata": {
    "lines_to_next_cell": 0,
    "slideshow": {
     "slide_type": "fragment"
    }
   },
   "source": [
    "**If we go ahead with the original idea of office hours...**"
   ]
  },
  {
   "cell_type": "markdown",
   "metadata": {
    "lines_to_next_cell": 0,
    "slideshow": {
     "slide_type": "fragment"
    }
   },
   "source": [
    "- Continue looking for funding"
   ]
  },
  {
   "cell_type": "markdown",
   "metadata": {
    "lines_to_next_cell": 0,
    "slideshow": {
     "slide_type": "fragment"
    }
   },
   "source": [
    "- Finish website"
   ]
  },
  {
   "cell_type": "markdown",
   "metadata": {
    "lines_to_next_cell": 0,
    "slideshow": {
     "slide_type": "fragment"
    }
   },
   "source": [
    "- Find TAs"
   ]
  },
  {
   "cell_type": "markdown",
   "metadata": {
    "lines_to_next_cell": 0,
    "slideshow": {
     "slide_type": "fragment"
    }
   },
   "source": [
    "- Develop leadership/teaching skills\n",
    "  - ReproNim/INCF Training Fellowship (\"Train-the-Trainor\")\n",
    "  - Instructor Training from Software Carpentries"
   ]
  },
  {
   "cell_type": "markdown",
   "metadata": {
    "lines_to_next_cell": 0,
    "slideshow": {
     "slide_type": "fragment"
    }
   },
   "source": [
    "- Start OSOH\n",
    "  - July 2021 (after BrainHack School & OHBM Hackathon)"
   ]
  },
  {
   "cell_type": "markdown",
   "metadata": {
    "lines_to_next_cell": 2,
    "slideshow": {
     "slide_type": "slide"
    }
   },
   "source": [
    "# Acknowledgements\n",
    "\n",
    "Thanks to many people who helped create and share the survey, notably:\n",
    "- Andrew Stewart (my OLS mentor)\n",
    "- Samuel Guay (Open Sicence UMontreal)\n",
    "- Samuel Burke (Open Sicence UMontreal)\n",
    "- Pierre Bellec (BrainHack)\n",
    "- Dylan Roskams-Edris (Tanenbaum Open Science Institute)\n",
    "- My labmates\n",
    "- John Oudyk\n"
   ]
  },
  {
   "cell_type": "markdown",
   "metadata": {
    "endofcell": "--",
    "lines_to_next_cell": 2,
    "slideshow": {
     "slide_type": "skip"
    }
   },
   "source": [
    "# Image attribution\n",
    "- https://cnx.org/contents/FPtK1zmh@8.25:fEI3C8Ot@10/Preface, CC BY 4.0, https://commons.wikimedia.org/w/index.php?curid=30147912\n",
    "-"
   ]
  },
  {
   "cell_type": "code",
   "execution_count": null,
   "metadata": {},
   "outputs": [],
   "source": []
  }
 ],
 "metadata": {
  "celltoolbar": "Slideshow",
  "jupytext": {
   "formats": "ipynb,py:light"
  },
  "kernelspec": {
   "display_name": "Python 3",
   "language": "python",
   "name": "python3"
  },
  "language_info": {
   "codemirror_mode": {
    "name": "ipython",
    "version": 3
   },
   "file_extension": ".py",
   "mimetype": "text/x-python",
   "name": "python",
   "nbconvert_exporter": "python",
   "pygments_lexer": "ipython3",
   "version": "3.7.3"
  }
 },
 "nbformat": 4,
 "nbformat_minor": 2
}

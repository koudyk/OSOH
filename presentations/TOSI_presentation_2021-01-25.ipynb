{
 "cells": [
  {
   "cell_type": "markdown",
   "metadata": {
    "lines_to_next_cell": 0,
    "slideshow": {
     "slide_type": "slide"
    }
   },
   "source": [
    "\n",
    "![](images/logo_medium.png)\n",
    "\n",
    "### Creating a space for graduate students to get regular help with doing open science.\n",
    "\n",
    "\n",
    "**Kendra Oudyk**\n",
    "\n",
    "2021-01-25\n"
   ]
  },
  {
   "cell_type": "markdown",
   "metadata": {
    "slideshow": {
     "slide_type": "slide"
    }
   },
   "source": [
    "# Let's start with a story\n"
   ]
  },
  {
   "cell_type": "markdown",
   "metadata": {
    "slideshow": {
     "slide_type": "subslide"
    }
   },
   "source": [
    "![](images/story1.png)"
   ]
  },
  {
   "cell_type": "markdown",
   "metadata": {
    "slideshow": {
     "slide_type": "subslide"
    }
   },
   "source": [
    "![](images/story4_corr.png)"
   ]
  },
  {
   "cell_type": "markdown",
   "metadata": {
    "slideshow": {
     "slide_type": "subslide"
    }
   },
   "source": [
    "![](images/story5.png)"
   ]
  },
  {
   "cell_type": "markdown",
   "metadata": {
    "slideshow": {
     "slide_type": "subslide"
    }
   },
   "source": [
    "![](images/story6b.png)"
   ]
  },
  {
   "cell_type": "markdown",
   "metadata": {
    "slideshow": {
     "slide_type": "subslide"
    }
   },
   "source": [
    "![](images/story7a2.png)"
   ]
  },
  {
   "cell_type": "markdown",
   "metadata": {
    "slideshow": {
     "slide_type": "fragment"
    }
   },
   "source": [
    "![](images/story7b2.png)"
   ]
  },
  {
   "cell_type": "markdown",
   "metadata": {
    "slideshow": {
     "slide_type": "subslide"
    }
   },
   "source": [
    "# Vision\n",
    "\n",
    "OSOH will be a space for graduate students to get regular help with doing open science.\n"
   ]
  },
  {
   "cell_type": "markdown",
   "metadata": {
    "slideshow": {
     "slide_type": "subslide"
    }
   },
   "source": [
    "# Inspired by the Math Help Center\n",
    "at McMaster University\n",
    "![](images/students_at_tables.jpeg)"
   ]
  },
  {
   "cell_type": "markdown",
   "metadata": {
    "slideshow": {
     "slide_type": "slide"
    }
   },
   "source": [
    "# Milestones\n",
    "\n",
    "- **Evaluate needs**\n",
    "- Create documentation\n",
    "- Find collaborators\n",
    "- Get funding\n",
    "- Hire and train TAs\n",
    "- Start OSOH\n",
    "- Re-evaluate after 1 year"
   ]
  },
  {
   "cell_type": "markdown",
   "metadata": {
    "slideshow": {
     "slide_type": "subslide"
    }
   },
   "source": [
    "# Survey\n",
    "![](images/survey_screenshot.png)"
   ]
  },
  {
   "cell_type": "markdown",
   "metadata": {
    "slideshow": {
     "slide_type": "fragment"
    }
   },
   "source": [
    "## Limitations\n",
    "- Small sample (44)\n",
    "- Biased sample?"
   ]
  },
  {
   "cell_type": "markdown",
   "metadata": {
    "slideshow": {
     "slide_type": "subslide"
    }
   },
   "source": [
    "# Experience using and creating open science\n",
    "![](../survey/figures/experience.png)\n",
    "\n",
    "n = 44"
   ]
  },
  {
   "cell_type": "markdown",
   "metadata": {
    "slideshow": {
     "slide_type": "subslide"
    }
   },
   "source": [
    "# What do you think of when you hear the words \"open science\"?\n",
    "![](../survey/figures/wc_first_thoughts.png)"
   ]
  },
  {
   "cell_type": "markdown",
   "metadata": {
    "slideshow": {
     "slide_type": "subslide"
    }
   },
   "source": [
    "## Barriers\n",
    "![](../survey/figures/barriers.png)"
   ]
  },
  {
   "cell_type": "markdown",
   "metadata": {
    "slideshow": {
     "slide_type": "fragment"
    }
   },
   "source": [
    "\"**Limited support** - My colleagues and/or supervisors don't think that open science is a priority\""
   ]
  },
  {
   "cell_type": "markdown",
   "metadata": {
    "slideshow": {
     "slide_type": "subslide"
    }
   },
   "source": [
    "# Potential role of OSOH "
   ]
  },
  {
   "cell_type": "markdown",
   "metadata": {
    "slideshow": {
     "slide_type": "fragment"
    }
   },
   "source": [
    "![](images/open_science_buffet.png)\n",
    "<font color='lightgrey'>(Credit to Christina Bergmann for the idea of the 'Open Science Buffet')</font>"
   ]
  },
  {
   "cell_type": "markdown",
   "metadata": {
    "slideshow": {
     "slide_type": "fragment"
    }
   },
   "source": [
    "- Link trainees to resources\n",
    "- Help troubleshoot\n",
    "- Offer support / community"
   ]
  },
  {
   "cell_type": "markdown",
   "metadata": {
    "slideshow": {
     "slide_type": "slide"
    }
   },
   "source": [
    "# Milestones\n",
    "\n",
    "- Evaluate needs\n",
    "- **Create documentation**\n",
    "- Find collaborators\n",
    "- Get funding\n",
    "- Hire and train TAs\n",
    "- Start OSOH\n",
    "- Re-evaluate after 1 year"
   ]
  },
  {
   "cell_type": "markdown",
   "metadata": {
    "slideshow": {
     "slide_type": "subslide"
    }
   },
   "source": [
    "![](images/github.png)"
   ]
  },
  {
   "cell_type": "markdown",
   "metadata": {
    "slideshow": {
     "slide_type": "slide"
    }
   },
   "source": [
    "# Milestones\n",
    "\n",
    "- Evaluate needs\n",
    "- Create documentation\n",
    "- **Find collaborators**\n",
    "- Get funding\n",
    "- Hire and train TAs\n",
    "- Start OSOH\n",
    "- Re-evaluate after 1 year"
   ]
  },
  {
   "cell_type": "markdown",
   "metadata": {
    "slideshow": {
     "slide_type": "subslide"
    }
   },
   "source": [
    "![](images/collaborators.png)"
   ]
  },
  {
   "cell_type": "markdown",
   "metadata": {
    "slideshow": {
     "slide_type": "slide"
    }
   },
   "source": [
    "# Milestones\n",
    "- Evaluate needs\n",
    "- Create documentation\n",
    "- Find collaborators\n",
    "- **Get funding**\n",
    "- Hire and train TAs\n",
    "- Start OSOH\n",
    "- Re-evaluate after 1 year"
   ]
  },
  {
   "cell_type": "markdown",
   "metadata": {
    "slideshow": {
     "slide_type": "subslide"
    }
   },
   "source": [
    "# Why we need funding\n"
   ]
  },
  {
   "cell_type": "markdown",
   "metadata": {
    "slideshow": {
     "slide_type": "fragment"
    }
   },
   "source": [
    "- 50% would 'maybe' volunteer"
   ]
  },
  {
   "cell_type": "markdown",
   "metadata": {
    "slideshow": {
     "slide_type": "fragment"
    }
   },
   "source": [
    "- But unpaid work is more accessible to those who can afford to volunteer"
   ]
  },
  {
   "cell_type": "markdown",
   "metadata": {
    "slideshow": {
     "slide_type": "fragment"
    }
   },
   "source": [
    "- There are already issues with Equity, Diversity, & Inclusion in science & even in open science"
   ]
  },
  {
   "cell_type": "markdown",
   "metadata": {
    "slideshow": {
     "slide_type": "fragment"
    }
   },
   "source": [
    "  - E.g., the [2017 GitHub Open Source Survey](file:///tmp/mozilla_kendra0/github_survey_report.pdf) reports that the majority (>70%) of open-source contributers are \n",
    "    - male, \n",
    "    - non-immigrants, \n",
    "    - non-minorities, \n",
    "    - employed, \n",
    "    - heterosexual, \n",
    "    - English-speaking, \n",
    "    - university-educated, and\n",
    "    - had access to the internet / computers before age 20\n",
    "    "
   ]
  },
  {
   "cell_type": "markdown",
   "metadata": {
    "slideshow": {
     "slide_type": "subslide"
    }
   },
   "source": [
    "# What's a reasonable hourly TA wage?"
   ]
  },
  {
   "cell_type": "markdown",
   "metadata": {
    "slideshow": {
     "slide_type": "fragment"
    }
   },
   "source": [
    "\n",
    "![](../survey/figures/ta_wages.png)\n",
    "<font color='lightgrey'> Info from glassdoor.ca </font>"
   ]
  },
  {
   "cell_type": "markdown",
   "metadata": {
    "lines_to_next_cell": 2,
    "slideshow": {
     "slide_type": "subslide"
    }
   },
   "source": [
    "# How much do we need?\n"
   ]
  },
  {
   "cell_type": "markdown",
   "metadata": {
    "lines_to_next_cell": 2,
    "slideshow": {
     "slide_type": "fragment"
    }
   },
   "source": [
    "![](../survey/figures/ta_budget.png)\n",
    "\n",
    "<font color='grey'> Based on McGill's TA wage: \\$29.33/hr </font>"
   ]
  },
  {
   "cell_type": "markdown",
   "metadata": {
    "slideshow": {
     "slide_type": "subslide"
    }
   },
   "source": [
    "# Potential funding opportunities"
   ]
  },
  {
   "cell_type": "markdown",
   "metadata": {
    "slideshow": {
     "slide_type": "fragment"
    }
   },
   "source": [
    "### For overhead costs\n",
    "- McGill PGSS Library Improvement Fund\n",
    "- McGill Alumni Association's Student Sponsorship Program"
   ]
  },
  {
   "cell_type": "markdown",
   "metadata": {
    "slideshow": {
     "slide_type": "fragment"
    }
   },
   "source": [
    "### For collaborative events\n",
    "- BrainHack School\n",
    "- Tanenbaum Open Science Initiative\n",
    "- Graduate Student Association for Neurocience (McGill)\n",
    "- Open Science UMontreal\n",
    "- Unifying Neuroscience and Artificial Intelligence - Québec\n",
    "- Healthy Brains for Healthy Lives (McGill)"
   ]
  },
  {
   "cell_type": "markdown",
   "metadata": {
    "lines_to_next_cell": 0,
    "slideshow": {
     "slide_type": "slide"
    }
   },
   "source": [
    "# Next steps in our Milestones"
   ]
  },
  {
   "cell_type": "markdown",
   "metadata": {
    "lines_to_next_cell": 0,
    "slideshow": {
     "slide_type": "fragment"
    }
   },
   "source": [
    "- Evaluate needs\n",
    "- Create documentation\n",
    "- Find collaborators\n",
    "- Get funding"
   ]
  },
  {
   "cell_type": "markdown",
   "metadata": {
    "lines_to_next_cell": 0,
    "slideshow": {
     "slide_type": "fragment"
    }
   },
   "source": [
    "- Hire and train TAs - look into Software Carpentries training"
   ]
  },
  {
   "cell_type": "markdown",
   "metadata": {
    "lines_to_next_cell": 0,
    "slideshow": {
     "slide_type": "fragment"
    }
   },
   "source": [
    "- Start OSOH in summer 2021, after BrainHack School"
   ]
  },
  {
   "cell_type": "markdown",
   "metadata": {
    "lines_to_next_cell": 0,
    "slideshow": {
     "slide_type": "fragment"
    }
   },
   "source": [
    "- Re-evaluate after 1 year"
   ]
  },
  {
   "cell_type": "markdown",
   "metadata": {
    "slideshow": {
     "slide_type": "slide"
    }
   },
   "source": [
    "# Let's change this story"
   ]
  },
  {
   "cell_type": "markdown",
   "metadata": {
    "slideshow": {
     "slide_type": "subslide"
    }
   },
   "source": [
    "![](images/story6b.png)"
   ]
  },
  {
   "cell_type": "markdown",
   "metadata": {
    "slideshow": {
     "slide_type": "subslide"
    }
   },
   "source": [
    "![](images/not_alone_pause.gif)"
   ]
  },
  {
   "cell_type": "markdown",
   "metadata": {
    "lines_to_next_cell": 0,
    "slideshow": {
     "slide_type": "slide"
    }
   },
   "source": [
    "![](images/logo_small.png)\n",
    "# Acknowledgements\n",
    "- Open Life Sciences mentorship program\n",
    "- Andrew Stewart (my OLS mentor)\n",
    "- Samuel Guay (Open Sicence UMontreal)\n",
    "- Samuel Burke (Open Sicence UMontreal)\n",
    "- Aleksandra Nenadic (Software Carpentry)\n",
    "- Pierre Bellec (BrainHack)\n",
    "- Patrick Bermudez (Canadian Open Neuroscience Platform)\n",
    "- My labmates\n",
    "- John Oudyk"
   ]
  }
 ],
 "metadata": {
  "celltoolbar": "Slideshow",
  "jupytext": {
   "encoding": "# -*- coding: utf-8 -*-",
   "formats": "ipynb,py:light"
  },
  "kernelspec": {
   "display_name": "Python 3",
   "language": "python",
   "name": "python3"
  },
  "language_info": {
   "codemirror_mode": {
    "name": "ipython",
    "version": 3
   },
   "file_extension": ".py",
   "mimetype": "text/x-python",
   "name": "python",
   "nbconvert_exporter": "python",
   "pygments_lexer": "ipython3",
   "version": "3.7.3"
  }
 },
 "nbformat": 4,
 "nbformat_minor": 2
}
